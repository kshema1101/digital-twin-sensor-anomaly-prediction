{
 "cells": [
  {
   "cell_type": "code",
   "execution_count": 9,
   "metadata": {},
   "outputs": [],
   "source": [
    "import numpy as np\n",
    "import matplotlib.pyplot as plt\n",
    "import pandas as pd\n",
    "from sklearn.preprocessing import MinMaxScaler\n",
    "from sklearn.model_selection import train_test_split"
   ]
  },
  {
   "cell_type": "markdown",
   "metadata": {},
   "source": [
    "preprocess data"
   ]
  },
  {
   "cell_type": "code",
   "execution_count": 16,
   "metadata": {},
   "outputs": [],
   "source": [
    "def preprocess_data(file_name):\n",
    "    # read the data\n",
    "    data = pd.read_csv(file_name)\n",
    "    # remove the missing values\n",
    "    data = data.dropna()\n",
    "    #normalize temp and vibration data\n",
    "    scaler = MinMaxScaler()\n",
    "    data[[\"temperature\",\"vibration\"]] =  scaler.fit_transform(data[[\"temperature\", \"vibration\"]])\n",
    "    #split the data into train and test\n",
    "    X = data[[\"temperature\",\"vibration\"]]\n",
    "    y = data[\"fault_label\"]\n",
    "    X_train, X_test, y_train, y_test = train_test_split(X,y, test_size =0.2, random_state = 42)\n",
    "    return X_train, X_test, y_train, y_test"
   ]
  },
  {
   "cell_type": "markdown",
   "metadata": {},
   "source": [
    "logistic regression"
   ]
  },
  {
   "cell_type": "code",
   "execution_count": 17,
   "metadata": {},
   "outputs": [
    {
     "name": "stdout",
     "output_type": "stream",
     "text": [
      "Accuracy:  0.985\n",
      "Confusion Matrix:  [[143   0]\n",
      " [  3  54]]\n",
      "Classification Report:                precision    recall  f1-score   support\n",
      "\n",
      "         0.0       0.98      1.00      0.99       143\n",
      "         1.0       1.00      0.95      0.97        57\n",
      "\n",
      "    accuracy                           0.98       200\n",
      "   macro avg       0.99      0.97      0.98       200\n",
      "weighted avg       0.99      0.98      0.98       200\n",
      "\n"
     ]
    }
   ],
   "source": [
    "from sklearn.linear_model import LogisticRegression\n",
    "from sklearn.metrics import accuracy_score, confusion_matrix, classification_report\n",
    "\n",
    "def train_model(X_train, y_train):\n",
    "    model = LogisticRegression()\n",
    "    model.fit(X_train, y_train)\n",
    "    return model\n",
    "\n",
    "def evaluate_model(model, X_test, y_test):\n",
    "    y_pred = model.predict(X_test)\n",
    "    accuracy = accuracy_score(y_test, y_pred)\n",
    "    confusion = confusion_matrix(y_test, y_pred)\n",
    "    classification_rep = classification_report(y_test, y_pred)\n",
    "    print(\"Accuracy: \", accuracy)\n",
    "    print(\"Confusion Matrix: \", confusion)\n",
    "    print(\"Classification Report: \", classification_rep)\n",
    "\n",
    "if __name__ == \"__main__\":\n",
    "    X_train, X_test, y_train, y_test = preprocess_data(\"synthetic_data.csv\")\n",
    "    model = train_model(X_train, y_train)\n",
    "    evaluate_model(model, X_test, y_test)\n"
   ]
  },
  {
   "cell_type": "markdown",
   "metadata": {},
   "source": [
    "RAndom forest"
   ]
  },
  {
   "cell_type": "code",
   "execution_count": 18,
   "metadata": {},
   "outputs": [
    {
     "name": "stdout",
     "output_type": "stream",
     "text": [
      "Accuracy:  1.0\n",
      "Confusion Matrix:  [[143   0]\n",
      " [  0  57]]\n",
      "Classification Report:                precision    recall  f1-score   support\n",
      "\n",
      "         0.0       1.00      1.00      1.00       143\n",
      "         1.0       1.00      1.00      1.00        57\n",
      "\n",
      "    accuracy                           1.00       200\n",
      "   macro avg       1.00      1.00      1.00       200\n",
      "weighted avg       1.00      1.00      1.00       200\n",
      "\n"
     ]
    }
   ],
   "source": [
    "from sklearn.ensemble import RandomForestClassifier\n",
    "\n",
    "def train_model_RF(X_train, y_train):\n",
    "    model = RandomForestClassifier(random_state = 42)\n",
    "    model.fit(X_train, y_train)\n",
    "    return model\n",
    "if __name__ == \"__main__\":\n",
    "    X_train, X_test, y_train, y_test = preprocess_data(\"synthetic_data.csv\")\n",
    "    model = train_model_RF(X_train, y_train)\n",
    "    evaluate_model(model, X_test, y_test)"
   ]
  },
  {
   "cell_type": "markdown",
   "metadata": {},
   "source": [
    "neural network"
   ]
  },
  {
   "cell_type": "code",
   "execution_count": 57,
   "metadata": {},
   "outputs": [
    {
     "name": "stdout",
     "output_type": "stream",
     "text": [
      "Accuracy:  1.0\n"
     ]
    }
   ],
   "source": [
    "import torch\n",
    "import pandas as pd\n",
    "from sklearn.preprocessing import MinMaxScaler\n",
    "from sklearn.model_selection import train_test_split\n",
    "import torch.nn as nn\n",
    "import torch.optim as optim\n",
    "\n",
    "def preprocessing(file_name):\n",
    "    data = pd.read_csv(file_name)\n",
    "    data = data.dropna()\n",
    "    scaler = MinMaxScaler()\n",
    "    data[[\"temperature\", \"vibration\"]] = scaler.fit_transform(data[[\"temperature\", \"vibration\"]])\n",
    "    X = data[[\"temperature\", \"vibration\"]]\n",
    "    y = data[\"fault_label\"]\n",
    "    X_train, X_test, y_train, y_test = train_test_split(X,y, test_size = 0.2, random_state = 42)\n",
    "    # convert data to pytorch tensor\n",
    "    X_train_tensor = torch.Tensor(X_train.values)\n",
    "    X_test_tensor = torch.Tensor(X_test.values)\n",
    "    y_train_tensor = torch.Tensor(y_train.values)\n",
    "    y_test_tensor = torch.Tensor(y_test.values)\n",
    "    return X_train_tensor, X_test_tensor, y_train_tensor, y_test_tensor\n",
    "\n",
    "\n",
    "class FaultDetectionNN(nn.Module):\n",
    "    def __init__(self):\n",
    "        super(FaultDetectionNN,self).__init__()\n",
    "        self.layer1 = nn.Linear(2,16) # input 2 features temp and vibration\n",
    "        self.layer2 = nn.Linear(16,8) # hidden layer\n",
    "        self.output = nn.Linear(8,1) # output layer\n",
    "        self.sigmoid = nn.Sigmoid() # activation function\n",
    "\n",
    "    def forward(self, x):\n",
    "        x = torch.relu(self.layer1(x))\n",
    "        x = torch.relu(self.layer2(x))\n",
    "        x = self.sigmoid(self.output(x))\n",
    "        return x\n",
    "    \n",
    "   #train the model\n",
    "def train_model(model, X_train, X_test, y_train, y_test, epochs=15, lr =0.1 ):\n",
    "    criterion = nn.BCELoss() #binary cross entropy loss\n",
    "    optimizer = optim.Adam(model.parameters(), lr=lr)\n",
    "    for epoch in range(epochs):\n",
    "        #forward pass\n",
    "        output = model(X_train)\n",
    "        loss = criterion(output, y_train.unsqueeze(1))\n",
    "\n",
    "        #backward pass\n",
    "        optimizer.zero_grad() #clear the gradients\n",
    "        loss.backward()\n",
    "        optimizer.step()\n",
    "# evaluate the model\n",
    "def evaluate_model(model, X_test, y_test):\n",
    "    model.eval() #set model to evaluation mode\n",
    "    with torch.no_grad(): #stop calculation of gradient\n",
    "        y_pred = model(X_test)\n",
    "        y_pred_class = (y_pred > 0.5).float()\n",
    "        accuracy = ((y_pred_class == y_test.unsqueeze(1)).sum().item() )/ y_test.size(0)\n",
    "        print(\"Accuracy: \", accuracy)\n",
    "  \n",
    "\n",
    "\n",
    "if __name__ == \"__main__\":\n",
    "    X_train_tensor, X_test_tensor, y_train_tensor, y_test_tensor = preprocessing(\"/Users/kshemamariageorge/Documents/digital-twin-sensor-anomaly-prediction/synthetic_data.csv\")\n",
    "    model = FaultDetectionNN()\n",
    "    train_model(model, X_train_tensor, X_test_tensor, y_train_tensor, y_test_tensor)\n",
    "    evaluate_model(model, X_test_tensor, y_test_tensor)\n",
    "\n",
    "    "
   ]
  },
  {
   "cell_type": "markdown",
   "metadata": {},
   "source": []
  }
 ],
 "metadata": {
  "kernelspec": {
   "display_name": "projenv",
   "language": "python",
   "name": "python3"
  },
  "language_info": {
   "codemirror_mode": {
    "name": "ipython",
    "version": 3
   },
   "file_extension": ".py",
   "mimetype": "text/x-python",
   "name": "python",
   "nbconvert_exporter": "python",
   "pygments_lexer": "ipython3",
   "version": "3.11.10"
  }
 },
 "nbformat": 4,
 "nbformat_minor": 2
}
